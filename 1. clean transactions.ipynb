{
 "cells": [
  {
   "cell_type": "code",
   "execution_count": 1,
   "id": "9d0ad263-5e34-46d2-9e6e-c895818d2920",
   "metadata": {},
   "outputs": [],
   "source": [
    "import pandas as pd\n",
    "from glob import glob"
   ]
  },
  {
   "cell_type": "code",
   "execution_count": 2,
   "id": "60fce3d2-a87c-4e45-8a67-d0245b78c180",
   "metadata": {},
   "outputs": [],
   "source": [
    "def clean_name(f):\n",
    "    return f.replace('.csv','-clean.csv')\n",
    "\n",
    "def pd_localize(df, col):\n",
    "    df[col] = df.apply(lambda x: pd.Timestamp(x[col]).tz_localize('utc').tz_convert('America/Los_Angeles').strftime('%m/%d/%Y %-I:%M:%S %p'), axis=1)\n",
    "    return df"
   ]
  },
  {
   "cell_type": "code",
   "execution_count": 3,
   "id": "d18fce97-f8f8-4d00-a731-5601edc054d1",
   "metadata": {},
   "outputs": [
    {
     "data": {
      "text/plain": [
       "'input/etherscan/export-0x81aced167afc56155c0d689d6e87210ff0101e04-clean.csv'"
      ]
     },
     "execution_count": 3,
     "metadata": {},
     "output_type": "execute_result"
    }
   ],
   "source": [
    "# etherscan\n",
    "\n",
    "glob('input/etherscan/*.csv')\n",
    "\n",
    "infile = 'input/etherscan/export-0x81aced167afc56155c0d689d6e87210ff0101e04.csv'\n",
    "outfile = clean_name(infile)\n",
    "\n",
    "lines = open(infile,'r').readlines()\n",
    "lines[0] = lines[0].replace(\"\\n\",\",\\n\")\n",
    "\n",
    "open(outfile,'w').writelines(lines)\n",
    "\n",
    "cols = ['DateTime','Value_IN(ETH)','Value_OUT(ETH)','TxnFee(ETH)','Historical $Price/Eth','Method']\n",
    "\n",
    "df = pd.read_csv(outfile,usecols=cols,dtype = {'Value_IN(ETH)':str, 'Value_OUT(ETH)':str, 'TxnFee(ETH)':str})\n",
    "df = df.rename(columns={'Value_IN(ETH)':'in','Value_OUT(ETH)':'out'})\n",
    "\n",
    "pd_localize(df,'DateTime')\n",
    "\n",
    "df['net'] = df.apply(lambda x: '-' + x['out'] if x['out'] != '0' else x['in'],axis=1)\n",
    "df = df[['DateTime','net','TxnFee(ETH)','in','out','Historical $Price/Eth','Method']]\n",
    "df['TxnFee(ETH)'] = '-' + df['TxnFee(ETH)']\n",
    "df.to_csv(outfile,index=False)\n",
    "outfile"
   ]
  },
  {
   "cell_type": "code",
   "execution_count": 4,
   "id": "dbf693e9-5bbf-445f-b507-8bf9955e255a",
   "metadata": {},
   "outputs": [
    {
     "data": {
      "text/plain": [
       "'input/etherscan-weth/export-token-0xc02aaa39b223fe8d0a0e5c4f27ead9083c756cc2-clean.csv'"
      ]
     },
     "execution_count": 4,
     "metadata": {},
     "output_type": "execute_result"
    }
   ],
   "source": [
    "# etherscan weth\n",
    "\n",
    "glob('input/etherscan-weth/*.csv')\n",
    "\n",
    "infile = 'input/etherscan-weth/export-token-0xc02aaa39b223fe8d0a0e5c4f27ead9083c756cc2.csv'\n",
    "outfile = clean_name(infile)\n",
    "\n",
    "df = pd.read_csv(infile,dtype={'Quantity':str})\n",
    "df = df.drop(columns=['Txhash','Blockno','UnixTimestamp'])\n",
    "\n",
    "df = pd_localize(df,'DateTime')\n",
    "\n",
    "df.to_csv(outfile,index=False)\n",
    "outfile"
   ]
  },
  {
   "cell_type": "code",
   "execution_count": null,
   "id": "8e0484bd-5417-4a72-b224-9a92c6246dc5",
   "metadata": {},
   "outputs": [],
   "source": []
  }
 ],
 "metadata": {
  "kernelspec": {
   "display_name": "Python 3",
   "language": "python",
   "name": "python3"
  },
  "language_info": {
   "codemirror_mode": {
    "name": "ipython",
    "version": 3
   },
   "file_extension": ".py",
   "mimetype": "text/x-python",
   "name": "python",
   "nbconvert_exporter": "python",
   "pygments_lexer": "ipython3",
   "version": "3.9.13"
  }
 },
 "nbformat": 4,
 "nbformat_minor": 5
}
